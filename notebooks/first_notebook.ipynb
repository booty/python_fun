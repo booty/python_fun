{
 "cells": [
  {
   "cell_type": "markdown",
   "metadata": {},
   "source": [
    "# Learning Python / Learning Jupyter\n",
    "\n",
    "A crusty programmer writes himself some notes for learning the language.\n"
   ]
  },
  {
   "cell_type": "code",
   "execution_count": 2,
   "metadata": {},
   "outputs": [
    {
     "name": "stdout",
     "output_type": "stream",
     "text": [
      "Hello John!\n"
     ]
    }
   ],
   "source": [
    "# Let's make sure this notebook works\n",
    "name = \"John\"\n",
    "print(f\"Hello {name}!\")"
   ]
  },
  {
   "cell_type": "code",
   "execution_count": null,
   "metadata": {},
   "outputs": [],
   "source": [
    "# Basic string stuff\n",
    "\n",
    "# A format string\n",
    "f_string = f\"Hello {name}!\"\n",
    "\n",
    "# A multiline string containing a SQL query\n",
    "query = \"\"\"\n",
    "SELECT *\n",
    "FROM my_table\n",
    "WHERE column = 'value'\n",
    "\"\"\"\n",
    "\n",
    "# Illustrate how strings are immutable\n",
    "name = \"John\"\n",
    "name[0] = \"j\"  # This will throw an error"
   ]
  },
  {
   "cell_type": "code",
   "execution_count": null,
   "metadata": {},
   "outputs": [],
   "source": [
    "# Can we get input? Well, some notebooks may not support it.\n",
    "name = input(\"What is your name, friend? \")\n",
    "print(f\"Hello {name}!\")"
   ]
  },
  {
   "cell_type": "code",
   "execution_count": null,
   "metadata": {},
   "outputs": [],
   "source": [
    "# We got numbers\n",
    "from decimal import Decimal\n",
    "from fractions import Fraction\n",
    "\n",
    "two_thirds_fraction = Fraction(2, 3)\n",
    "two_thirds_fixed = Decimal(\"0.666666\")\n",
    "two_thirds_float = 2 / 3"
   ]
  },
  {
   "cell_type": "code",
   "execution_count": null,
   "metadata": {},
   "outputs": [],
   "source": [
    "# The math module has mathy stuff\n",
    "import math\n",
    "\n",
    "print(math.pi)  # PI\n",
    "print(math.tau)  # TAU\n",
    "print(math.e)  # Euler's number\n",
    "print(math.inf)  # Infinity\n",
    "print(math.nan)  # Not-a-Number"
   ]
  },
  {
   "cell_type": "code",
   "execution_count": 7,
   "metadata": {
    "vscode": {
     "languageId": "ruby"
    }
   },
   "outputs": [
    {
     "name": "stdout",
     "output_type": "stream",
     "text": [
      "ok\n"
     ]
    }
   ],
   "source": [
    "# Conditionals / Flow Control\n",
    "\n",
    "# Most basic conditional\n",
    "team = \"Flyers\"\n",
    "if team == \"Flyers\":\n",
    "    print(\"Let's go!\")\n",
    "elif team == \"Penguins\":\n",
    "    print(\"Die in a fire\")\n",
    "else: \n",
    "    print(\"Whatever.\")\n",
    "    \n",
    "# Switch statements return a value\n",
    "result = switch(team) {\n",
    "    case \"Flyers\":\n",
    "        \"Let's go!\"\n",
    "    case \"Penguins\":\n",
    "        \"Die in a fire\"\n",
    "    default:\n",
    "        \"Whatever.\"\n",
    "    }\n",
    "print(result)\n",
    "\n",
    "# Basic-ass while loop\n",
    "foo = 1\n",
    "while(true) {\n",
    "    foo = foo + 1\n",
    "    if(foo > 10) {\n",
    "        break # Break out of the loop\n",
    "    }\n",
    "}\n",
    "print(foo)\n",
    "\n",
    "# Looping forever\n",
    "while(true) {\n",
    "    print(\"Looping forever\")\n",
    "}"
   ]
  },
  {
   "cell_type": "code",
   "execution_count": 8,
   "metadata": {},
   "outputs": [
    {
     "name": "stdout",
     "output_type": "stream",
     "text": [
      "I guess empty lists are falsy\n"
     ]
    }
   ],
   "source": [
    "# Truthiness\n",
    "# - Objects can define their own truthiness by implementing __bool__ or __len__ methods\n",
    "# - Empty sequences (lists, tuples, sets, etc.) are falsy\n",
    "\n",
    "# Some numbers and other things that are considered falsy\n",
    "empty_tuple = ()\n",
    "empty_list = []\n",
    "empty_string = \"\"\n",
    "empty_set = set()\n",
    "empty_dict = {}\n",
    "zero = 0\n",
    "zero_float = 0.0\n",
    "zero_fraction = Fraction(0, 1)\n",
    "zero_decimal = Decimal(0)\n",
    "zero_complex = 0j"
   ]
  },
  {
   "cell_type": "code",
   "execution_count": 10,
   "metadata": {},
   "outputs": [
    {
     "name": "stdout",
     "output_type": "stream",
     "text": [
      "foods_dict.keys():  dict_keys(['pizza', 'hamburger', 'sushi', 'tacos'])\n"
     ]
    },
    {
     "data": {
      "text/plain": [
       "{'hamburger', 'salad', 'sushi', 'tacos', 'tofu'}"
      ]
     },
     "execution_count": 10,
     "metadata": {},
     "output_type": "execute_result"
    }
   ],
   "source": [
    "# List\n",
    "# - Can contain any type of data\n",
    "# - Use a list when you want to store a collection of data that can change\n",
    "# - Pros: Ordered, mutable, can contain duplicate values\n",
    "# - Cons: Slower lookups, slower deletes, slower inserts\n",
    "foods_list = [\"pizza\", \"hamburger\", \"sushi\", \"tacos\"]\n",
    "\n",
    "# Array\n",
    "# - Can only contain one type of data\n",
    "# - More memory efficient than lists, but less flexible\n",
    "# - Can do math stuff with them\n",
    "import numpy as np\n",
    "\n",
    "foods_array = np.array(foods_list)\n",
    "np.array([1, 2, 3])\n",
    "\n",
    "# Dict\n",
    "# - Keys must be immutable and unique\n",
    "# - Pros: Fast lookups, variable length, multi-dimensional, can be pickled\n",
    "# - Cons: Slow inserts and deletes, unordered, single value per key\n",
    "foods_dict = {\n",
    "    \"pizza\": \"Italian\",\n",
    "    \"hamburger\": \"American\",\n",
    "    \"sushi\": \"Japanese\",\n",
    "    \"tacos\": \"Mexican\",\n",
    "}\n",
    "print(\"foods_dict.keys(): \", foods_dict.keys())\n",
    "\n",
    "# Tuples\n",
    "# - Immutable\n",
    "# - Can contain any type of data\n",
    "# - Use a tuple when you want to store a collection of data that should not change\n",
    "# - Tuples are faster than lists\n",
    "# - Tuples can be used as keys in dictionaries, while lists can't (because lists are mutable)\n",
    "# - Tuples can be used as elements of sets, while lists can't (because lists are mutable)\n",
    "foods_tuple = (\"pizza\", \"hamburger\", \"sushi\", \"tacos\")\n",
    "\n",
    "# Set\n",
    "# - Can only contain one type of data\n",
    "# - Can't have duplicates\n",
    "# - Set operations include union, intersection, difference, and symmetric difference\n",
    "foods_set = set(foods_list)\n",
    "tasty_foods = {\"pizza\", \"hamburger\", \"sushi\", \"tacos\"}\n",
    "vegatarian_foods = {\"pizza\", \"tofu\", \"salad\"}\n",
    "tasty_foods.union(vegatarian_foods)  # or tasty_foods | vegatarian_foods\n",
    "tasty_foods.intersection(vegatarian_foods)  # or tasty_foods & vegatarian_foods\n",
    "tasty_foods.difference(vegatarian_foods)  # or tasty_foods - vegatarian_foods\n",
    "tasty_foods.symmetric_difference(vegatarian_foods)  # or tasty_foods ^ vegatarian_foods"
   ]
  },
  {
   "cell_type": "code",
   "execution_count": 13,
   "metadata": {},
   "outputs": [
    {
     "name": "stdout",
     "output_type": "stream",
     "text": [
      "I'll have a hamburger\n",
      "I'll have a hamburger or a hot dog\n",
      "I'll have a hamburger\n",
      "You want me to put strawberry where?!\n"
     ]
    }
   ],
   "source": [
    "# Pattern Matching\n",
    "# - Python 3.10+\n",
    "# - Inspired by Rust, Scala, Haskell, etc.\n",
    "# - Pros: Concise, readable, and powerful\n",
    "# - Cons: Not available in older versions of Python\n",
    "# - Common pitfalls: https://www.python.org/dev/peps/pep-0634/#common-pitfalls\n",
    "\n",
    "# Simple pattern matching\n",
    "lunch_order = \"hamburger\"\n",
    "match lunch_order:\n",
    "    case \"hamburger\":\n",
    "        print(\"I'll have a hamburger\")\n",
    "    case \"tacos\":\n",
    "        print(\"I'll have some tacos\")\n",
    "    case _:  # The default case\n",
    "        print(\"I'll have whatever\")\n",
    "\n",
    "# Complex pattern matching\n",
    "match lunch_order:\n",
    "    case \"hamburger\" | \"hot dog\":\n",
    "        print(\"I'll have a hamburger or a hot dog\")\n",
    "    case \"tacos\":\n",
    "        print(\"I'll have some tacos\")\n",
    "    case _:  # The default case\n",
    "        print(\"I'll have whatever\")\n",
    "\n",
    "# Capture patterns\n",
    "match lunch_order:\n",
    "    case \"hamburger\" | \"hot dog\":\n",
    "        print(f\"I'll have a {lunch_order}\")\n",
    "    case foo:  # The default case, captured as foo\n",
    "        print(f\"I'll have a {foo}\")\n",
    "\n",
    "lunch_order = \"strawberry enema\".split()\n",
    "match lunch_order:\n",
    "    case (flavor, \"enema\"):\n",
    "        print(f\"You want me to put {flavor} WHERE?!\")\n",
    "    case foo:  # The default case, captured as foo\n",
    "        print(f\"I'll get your {foo} right away\")"
   ]
  },
  {
   "cell_type": "code",
   "execution_count": null,
   "metadata": {},
   "outputs": [],
   "source": [
    "# Suppose this is smart_door.py\n",
    "def open_door():\n",
    "    print(\"Ahhhhhh\")\n",
    "\n",
    "\n",
    "def close_door():\n",
    "    print(\"Ooooooo\")\n",
    "\n",
    "\n",
    "# Here's how we'd call it from another file\n",
    "#   import smart_door\n",
    "#   smart_door.open_door()\n",
    "#   smart_door.close_door()\n",
    "\n",
    "# Or we could do this\n",
    "#   from smart_door import open_door, close_door\n",
    "#   open_door()\n",
    "#   close_door()\n",
    "\n",
    "# Or we could do this\n",
    "#   from smart_door import *\n",
    "#   open_door()\n",
    "\n",
    "# Or we could do this (rename it to avoid a name collision)\n",
    "#   from smart_door import open_door as od\n",
    "\n",
    "# Things to avoid doing with imports\n",
    "# - from module import *\n",
    "# - import module"
   ]
  },
  {
   "cell_type": "code",
   "execution_count": null,
   "metadata": {},
   "outputs": [],
   "source": [
    "# Entry points\n",
    "# - Python 3.7+\n",
    "# - Allows you to run a module as a script\n",
    "# - Allows you to run a function from the command line\n",
    "# - __name__ is a special variable that is set to \"__main__\" when a module is run as a script"
   ]
  },
  {
   "cell_type": "code",
   "execution_count": 16,
   "metadata": {},
   "outputs": [
    {
     "name": "stdout",
     "output_type": "stream",
     "text": [
      "Good presidents:  ['Washington', 'Adams', 'Jefferson', 'Madison', 'Monroe']\n"
     ]
    }
   ],
   "source": [
    "# List Comprenhensions\n",
    "# - A concise way to create lists\n",
    "# - Pros: Concise, readable, and powerful\n",
    "# - Cons: Not available in older versions of Python\n",
    "# Sort of like a traditional map?\n",
    "\n",
    "# Traditional way\n",
    "squares = []\n",
    "for i in range(10):\n",
    "    squares.append(i**2)\n",
    "\n",
    "# List comprehension way. LET'S GO!\n",
    "squares = [i**2 for i in range(10)]\n",
    "\n",
    "# Filter \"Trump\" from a list of presidents\n",
    "presidents = [\"Washington\", \"Adams\", \"Jefferson\", \"Trump\", \"Madison\", \"Monroe\"]\n",
    "good_presidents = [x for x in presidents if x != \"Trump\"]\n",
    "print(\"Good presidents: \", good_presidents)"
   ]
  },
  {
   "cell_type": "code",
   "execution_count": null,
   "metadata": {},
   "outputs": [],
   "source": [
    "# Functions\n",
    "\n",
    "\n",
    "# A function that takes three arguments, two of which are required\n",
    "def add(a, b, c=None):\n",
    "    if c:\n",
    "        return a + b + c\n",
    "    else:\n",
    "        return a + b\n",
    "\n",
    "\n",
    "add(1, 2, 3)\n",
    "\n",
    "\n",
    "# A function that takes three keyword arguments, two of which are required\n",
    "def add(a, b, c=None):\n",
    "    if c:\n",
    "        return a + b + c\n",
    "    else:\n",
    "        return a + b\n",
    "\n",
    "\n",
    "add(a=1, b=2, c=3)\n",
    "\n",
    "\n",
    "# A function that takes a variable number of arguments\n",
    "def add(*args):\n",
    "    total = 0\n",
    "    for arg in args:\n",
    "        total += arg\n",
    "    return total\n",
    "\n",
    "\n",
    "add(1, 2, 3, 4, 5)  # result: 15\n",
    "\n",
    "\n",
    "# A function that takes a variable number of keyword arguments\n",
    "def add(**kwargs):\n",
    "    total = 0\n",
    "    for arg in kwargs.values():\n",
    "        total += arg\n",
    "    return total\n",
    "\n",
    "\n",
    "add(a=1, b=2, c=3, d=4, e=5)\n",
    "\n",
    "\n",
    "# A function that takes a variable number of arguments and keyword arguments\n",
    "def add(*args, **kwargs):\n",
    "    total = 0\n",
    "    for arg in args:\n",
    "        total += arg\n",
    "    for arg in kwargs.values():\n",
    "        total += arg\n",
    "    return total\n",
    "\n",
    "\n",
    "add(1, 2, 3, 4, 5, a=1, b=2, c=3, d=4, e=5)  # result: 28\n",
    "\n",
    "\n",
    "# A function that's just absolutely wild\n",
    "def add(a, b, *args, **kwargs):\n",
    "    total = 0\n",
    "    for arg in args:\n",
    "        total += arg\n",
    "    for arg in kwargs.values():\n",
    "        total += arg\n",
    "    return total\n",
    "\n",
    "\n",
    "add(1, 2, 3, 4, 5, a=1, b=2, c=3, d=4, e=5)  # result: 28"
   ]
  },
  {
   "cell_type": "code",
   "execution_count": null,
   "metadata": {},
   "outputs": [],
   "source": [
    "# Closures\n",
    "# - A closure is a function that remembers the values from the enclosing lexical scope even when the program flow is no longer in that scope\n",
    "# - Uses: Function factories, decorators, callbacks, etc.\n",
    "# - Pros: Concise, readable, and powerful\n",
    "# - Cons: Not available in older versions of Python\n",
    "def outer_function(x):\n",
    "    def inner_function(y):\n",
    "        return x + y\n",
    "\n",
    "    return inner_function\n",
    "\n",
    "\n",
    "add_five = outer_function(5)\n",
    "result = add_five(3)\n",
    "print(result)"
   ]
  },
  {
   "cell_type": "code",
   "execution_count": 28,
   "metadata": {},
   "outputs": [
    {
     "name": "stdout",
     "output_type": "stream",
     "text": [
      "3\n",
      "3\n",
      "3\n",
      "3\n",
      "3\n",
      "fart\n",
      "3\n",
      "fart\n",
      "3\n",
      "fart\n"
     ]
    }
   ],
   "source": [
    "# Decorators\n",
    "# - A decorator is a function that takes a function as an argument and returns a function\n",
    "# - Uses: Logging, timing, validation, etc.\n",
    "# - Pros: Concise, readable, and powerful\n",
    "# - Cons: Not available in older versions of Python\n",
    "# - Syntactic sugar for wrapping a function in another function\n",
    "\n",
    "# A decorator that times another function\n",
    "import time\n",
    "import random\n",
    "\n",
    "\n",
    "def timer(func):\n",
    "    def wrapper(*args, **kwargs):\n",
    "        start = time.time()\n",
    "        result = func(*args, **kwargs)\n",
    "        end = time.time()\n",
    "        print(f\"{func.__name__} took {end - start} seconds\")\n",
    "        return result\n",
    "\n",
    "    return wrapper\n",
    "\n",
    "\n",
    "def return_a_fart_50_percent_of_the_time(func):\n",
    "    def wrapper(*args, **kwargs):\n",
    "        if random.random() < 0.5:\n",
    "            return \"fart\"\n",
    "        return func(*args, **kwargs)\n",
    "\n",
    "    return wrapper\n",
    "\n",
    "\n",
    "# decorate with a decorator\n",
    "@return_a_fart_50_percent_of_the_time\n",
    "def add(a, b):\n",
    "    return a + b\n",
    "\n",
    "\n",
    "for _ in range(10):\n",
    "    print(add(1, 2))"
   ]
  },
  {
   "cell_type": "code",
   "execution_count": 21,
   "metadata": {},
   "outputs": [
    {
     "name": "stdout",
     "output_type": "stream",
     "text": [
      "add(1, 2) = 3\n",
      "add(3, 4) = 7\n",
      "add(5, 6) = 11\n",
      "subtract(1, 2) = -1\n",
      "subtract(3, 4) = -1\n",
      "subtract(5, 6) = -1\n",
      "multiply(1, 2) = 2\n",
      "multiply(3, 4) = 12\n",
      "multiply(5, 6) = 30\n"
     ]
    }
   ],
   "source": [
    "# Lambdas\n",
    "# - A lambda is an anonymous function\n",
    "# - Uses: Callbacks, sorting, etc.\n",
    "\n",
    "\n",
    "def do_math(func, a, b):\n",
    "    return func(a, b)\n",
    "\n",
    "\n",
    "math_functions = {\n",
    "    \"add\": lambda a, b: a + b,\n",
    "    \"subtract\": lambda a, b: a - b,\n",
    "    \"multiply\": lambda a, b: a * b,\n",
    "}\n",
    "\n",
    "numbers = [[1, 2], [3, 4], [5, 6]]\n",
    "\n",
    "for name, func in math_functions.items():\n",
    "    for nums in numbers:\n",
    "        print(f\"{name}({nums[0]}, {nums[1]}) = {do_math(func, *nums)}\")"
   ]
  },
  {
   "cell_type": "code",
   "execution_count": 24,
   "metadata": {},
   "outputs": [
    {
     "ename": "RuntimeError",
     "evalue": "asyncio.run() cannot be called from a running event loop",
     "output_type": "error",
     "traceback": [
      "\u001b[0;31m---------------------------------------------------------------------------\u001b[0m",
      "\u001b[0;31mRuntimeError\u001b[0m                              Traceback (most recent call last)",
      "\u001b[1;32m/Volumes/Huggy/huggycode/python_fun/notebooks/first_notebook.ipynb Cell 18\u001b[0m line \u001b[0;36m1\n\u001b[1;32m     <a href='vscode-notebook-cell:/Volumes/Huggy/huggycode/python_fun/notebooks/first_notebook.ipynb#X25sZmlsZQ%3D%3D?line=12'>13</a>\u001b[0m     \u001b[39mprint\u001b[39m(\u001b[39m\"\u001b[39m\u001b[39mMain finished\u001b[39m\u001b[39m\"\u001b[39m)\n\u001b[1;32m     <a href='vscode-notebook-cell:/Volumes/Huggy/huggycode/python_fun/notebooks/first_notebook.ipynb#X25sZmlsZQ%3D%3D?line=13'>14</a>\u001b[0m     \u001b[39mreturn\u001b[39;00m \u001b[39m42\u001b[39m\n\u001b[0;32m---> <a href='vscode-notebook-cell:/Volumes/Huggy/huggycode/python_fun/notebooks/first_notebook.ipynb#X25sZmlsZQ%3D%3D?line=15'>16</a>\u001b[0m ultimate_result \u001b[39m=\u001b[39m asyncio\u001b[39m.\u001b[39;49mrun(main())\n\u001b[1;32m     <a href='vscode-notebook-cell:/Volumes/Huggy/huggycode/python_fun/notebooks/first_notebook.ipynb#X25sZmlsZQ%3D%3D?line=16'>17</a>\u001b[0m \u001b[39mprint\u001b[39m(\u001b[39mf\u001b[39m\u001b[39m\"\u001b[39m\u001b[39multimate_result: \u001b[39m\u001b[39m{\u001b[39;00multimate_result\u001b[39m}\u001b[39;00m\u001b[39m\"\u001b[39m)\n",
      "File \u001b[0;32m~/.asdf/installs/python/3.11.5/lib/python3.11/asyncio/runners.py:186\u001b[0m, in \u001b[0;36mrun\u001b[0;34m(main, debug)\u001b[0m\n\u001b[1;32m    161\u001b[0m \u001b[39m\u001b[39m\u001b[39m\"\"\"Execute the coroutine and return the result.\u001b[39;00m\n\u001b[1;32m    162\u001b[0m \n\u001b[1;32m    163\u001b[0m \u001b[39mThis function runs the passed coroutine, taking care of\u001b[39;00m\n\u001b[0;32m   (...)\u001b[0m\n\u001b[1;32m    182\u001b[0m \u001b[39m    asyncio.run(main())\u001b[39;00m\n\u001b[1;32m    183\u001b[0m \u001b[39m\"\"\"\u001b[39;00m\n\u001b[1;32m    184\u001b[0m \u001b[39mif\u001b[39;00m events\u001b[39m.\u001b[39m_get_running_loop() \u001b[39mis\u001b[39;00m \u001b[39mnot\u001b[39;00m \u001b[39mNone\u001b[39;00m:\n\u001b[1;32m    185\u001b[0m     \u001b[39m# fail fast with short traceback\u001b[39;00m\n\u001b[0;32m--> 186\u001b[0m     \u001b[39mraise\u001b[39;00m \u001b[39mRuntimeError\u001b[39;00m(\n\u001b[1;32m    187\u001b[0m         \u001b[39m\"\u001b[39m\u001b[39masyncio.run() cannot be called from a running event loop\u001b[39m\u001b[39m\"\u001b[39m)\n\u001b[1;32m    189\u001b[0m \u001b[39mwith\u001b[39;00m Runner(debug\u001b[39m=\u001b[39mdebug) \u001b[39mas\u001b[39;00m runner:\n\u001b[1;32m    190\u001b[0m     \u001b[39mreturn\u001b[39;00m runner\u001b[39m.\u001b[39mrun(main)\n",
      "\u001b[0;31mRuntimeError\u001b[0m: asyncio.run() cannot be called from a running event loop"
     ]
    }
   ],
   "source": [
    "# Async and Await\n",
    "# - Python 3.5+\n",
    "# - Uses: Network requests, file system operations, etc.\n",
    "\n",
    "\n",
    "# Note: this won't work in a Jupyter notebook\n",
    "import asyncio\n",
    "\n",
    "\n",
    "async def my_coroutine():\n",
    "    print(\"Starting coroutine\")\n",
    "    await asyncio.sleep(1)\n",
    "    print(\"Coroutine finished\")\n",
    "\n",
    "\n",
    "async def main():\n",
    "    print(\"Starting main\")\n",
    "    await asyncio.gather(my_coroutine(), my_coroutine())\n",
    "    print(\"Main finished\")\n",
    "    return 42\n",
    "\n",
    "\n",
    "ultimate_result = asyncio.run(main())\n",
    "print(f\"ultimate_result: {ultimate_result}\")"
   ]
  },
  {
   "cell_type": "code",
   "execution_count": 30,
   "metadata": {},
   "outputs": [
    {
     "name": "stdout",
     "output_type": "stream",
     "text": [
      "New called\n",
      "Constructor called\n",
      "Instance method called\n",
      "Instance variable: Hello, world!\n",
      "Destructor called\n",
      "Class method called\n",
      "Class variable: 0\n",
      "Static method called\n"
     ]
    }
   ],
   "source": [
    "# Classes (Why are we only now getting to this?)\n",
    "\n",
    "\n",
    "class MyClass:\n",
    "    class_var = 0\n",
    "\n",
    "    # Creates the object in memory\n",
    "    def __new__(cls, *args, **kwargs):\n",
    "        print(\"New called\")\n",
    "        return super().__new__(cls)\n",
    "\n",
    "    #\n",
    "    def __init__(self, instance_var):\n",
    "        print(\"Constructor called\")\n",
    "        self.instance_var = instance_var\n",
    "\n",
    "    def __del__(self):\n",
    "        print(\"Destructor called\")\n",
    "\n",
    "    def instance_method(self):\n",
    "        print(\"Instance method called\")\n",
    "        print(f\"Instance variable: {self.instance_var}\")\n",
    "\n",
    "    @classmethod\n",
    "    def class_method(cls):\n",
    "        print(\"Class method called\")\n",
    "        print(f\"Class variable: {cls.class_var}\")\n",
    "\n",
    "    @staticmethod\n",
    "    def static_method():\n",
    "        print(\"Static method called\")\n",
    "\n",
    "\n",
    "my_object = MyClass(\"Hello, world!\")\n",
    "my_object.instance_method()\n",
    "del my_object\n",
    "MyClass.class_method()\n",
    "MyClass.static_method()"
   ]
  },
  {
   "cell_type": "code",
   "execution_count": null,
   "metadata": {},
   "outputs": [],
   "source": []
  },
  {
   "cell_type": "code",
   "execution_count": null,
   "metadata": {},
   "outputs": [],
   "source": []
  },
  {
   "cell_type": "code",
   "execution_count": null,
   "metadata": {},
   "outputs": [],
   "source": []
  },
  {
   "cell_type": "code",
   "execution_count": null,
   "metadata": {},
   "outputs": [],
   "source": []
  },
  {
   "cell_type": "code",
   "execution_count": null,
   "metadata": {},
   "outputs": [],
   "source": []
  },
  {
   "cell_type": "code",
   "execution_count": null,
   "metadata": {},
   "outputs": [],
   "source": []
  },
  {
   "cell_type": "code",
   "execution_count": null,
   "metadata": {},
   "outputs": [],
   "source": []
  }
 ],
 "metadata": {
  "kernelspec": {
   "display_name": "Python 3 (ipykernel)",
   "language": "python",
   "name": "python3"
  },
  "language_info": {
   "codemirror_mode": {
    "name": "ipython",
    "version": 3
   },
   "file_extension": ".py",
   "mimetype": "text/x-python",
   "name": "python",
   "nbconvert_exporter": "python",
   "pygments_lexer": "ipython3",
   "version": "3.11.5"
  }
 },
 "nbformat": 4,
 "nbformat_minor": 4
}
